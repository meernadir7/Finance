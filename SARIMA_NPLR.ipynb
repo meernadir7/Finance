{
 "cells": [
  {
   "cell_type": "code",
   "execution_count": 1,
   "id": "0d0e7cf4",
   "metadata": {},
   "outputs": [
    {
     "data": {
      "application/javascript": [
       "IPython.notebook.set_autosave_interval(0)"
      ]
     },
     "metadata": {},
     "output_type": "display_data"
    },
    {
     "name": "stdout",
     "output_type": "stream",
     "text": [
      "Autosave disabled\n"
     ]
    }
   ],
   "source": [
    "%autosave 0"
   ]
  },
  {
   "cell_type": "code",
   "execution_count": 2,
   "id": "edf035bf",
   "metadata": {},
   "outputs": [],
   "source": [
    "from math import sqrt\n",
    "from multiprocessing import cpu_count\n",
    "from joblib import Parallel\n",
    "from joblib import delayed\n",
    "from warnings import catch_warnings\n",
    "from warnings import filterwarnings\n",
    "from pandas.plotting import autocorrelation_plot\n",
    "from statsmodels.tsa.stattools import adfuller\n",
    "from statsmodels.tsa.stattools import kpss\n",
    "from sklearn.metrics import mean_squared_error\n",
    "from statsmodels.tsa.seasonal import seasonal_decompose\n",
    "#from statsmodels.tsa.arima_model import ARMA\n",
    "from statsmodels.tsa.arima.model import ARIMA\n",
    "from statsmodels.tsa.statespace.sarimax import SARIMAX\n",
    "from pmdarima.arima import auto_arima\n",
    "from scipy.stats.distributions import chi2\n",
    "from statsmodels.graphics.tsaplots import plot_acf\n",
    "from statsmodels.graphics.tsaplots import plot_pacf\n",
    "import statsmodels.api as sm\n",
    "from pandas import read_csv\n",
    "import pandas as pd\n",
    "import io\n",
    "import warnings\n",
    "import matplotlib.pyplot as plt\n",
    "from numpy import array\n",
    "from datetime import datetime\n",
    "\n",
    "# Ignoring all warnings\n",
    "import warnings\n",
    "warnings.filterwarnings('ignore')\n",
    "\n",
    "import pandas as pd\n",
    "import numpy as np\n",
    "from tqdm.notebook import trange, tqdm\n",
    "pd.set_option('display.max_rows', None)"
   ]
  },
  {
   "cell_type": "code",
   "execution_count": 3,
   "id": "1a419b49",
   "metadata": {},
   "outputs": [
    {
     "name": "stdout",
     "output_type": "stream",
     "text": [
      "date        datetime64[ns]\n",
      "nplr               float64\n",
      "kibor              float64\n",
      "discrate           float64\n",
      "lendrate           float64\n",
      "exrate             float64\n",
      "gdp                float64\n",
      "crudeoil           float64\n",
      "gexp               float64\n",
      "lsm                float64\n",
      "cpi                float64\n",
      "psx                float64\n",
      "gdpr               float64\n",
      "cpirate            float64\n",
      "dtype: object\n",
      "(68, 11)\n"
     ]
    },
    {
     "data": {
      "text/html": [
       "<div>\n",
       "<style scoped>\n",
       "    .dataframe tbody tr th:only-of-type {\n",
       "        vertical-align: middle;\n",
       "    }\n",
       "\n",
       "    .dataframe tbody tr th {\n",
       "        vertical-align: top;\n",
       "    }\n",
       "\n",
       "    .dataframe thead th {\n",
       "        text-align: right;\n",
       "    }\n",
       "</style>\n",
       "<table border=\"1\" class=\"dataframe\">\n",
       "  <thead>\n",
       "    <tr style=\"text-align: right;\">\n",
       "      <th></th>\n",
       "      <th>nplr</th>\n",
       "      <th>discrate</th>\n",
       "      <th>exrate</th>\n",
       "      <th>gdp</th>\n",
       "      <th>crudeoil</th>\n",
       "      <th>gexp</th>\n",
       "      <th>lsm</th>\n",
       "      <th>cpi</th>\n",
       "      <th>psx</th>\n",
       "      <th>gdpr</th>\n",
       "      <th>cpirate</th>\n",
       "    </tr>\n",
       "    <tr>\n",
       "      <th>date</th>\n",
       "      <th></th>\n",
       "      <th></th>\n",
       "      <th></th>\n",
       "      <th></th>\n",
       "      <th></th>\n",
       "      <th></th>\n",
       "      <th></th>\n",
       "      <th></th>\n",
       "      <th></th>\n",
       "      <th></th>\n",
       "      <th></th>\n",
       "    </tr>\n",
       "  </thead>\n",
       "  <tbody>\n",
       "    <tr>\n",
       "      <th>2020-12-01</th>\n",
       "      <td>4.77</td>\n",
       "      <td>7.0</td>\n",
       "      <td>160.83</td>\n",
       "      <td>-0.39</td>\n",
       "      <td>42.65</td>\n",
       "      <td>5.02</td>\n",
       "      <td>166.23</td>\n",
       "      <td>141.12</td>\n",
       "      <td>43.76</td>\n",
       "      <td>3.94</td>\n",
       "      <td>8.41</td>\n",
       "    </tr>\n",
       "    <tr>\n",
       "      <th>2021-03-01</th>\n",
       "      <td>NaN</td>\n",
       "      <td>NaN</td>\n",
       "      <td>NaN</td>\n",
       "      <td>NaN</td>\n",
       "      <td>NaN</td>\n",
       "      <td>NaN</td>\n",
       "      <td>NaN</td>\n",
       "      <td>NaN</td>\n",
       "      <td>NaN</td>\n",
       "      <td>NaN</td>\n",
       "      <td>NaN</td>\n",
       "    </tr>\n",
       "    <tr>\n",
       "      <th>2021-06-01</th>\n",
       "      <td>NaN</td>\n",
       "      <td>NaN</td>\n",
       "      <td>NaN</td>\n",
       "      <td>NaN</td>\n",
       "      <td>NaN</td>\n",
       "      <td>NaN</td>\n",
       "      <td>NaN</td>\n",
       "      <td>NaN</td>\n",
       "      <td>NaN</td>\n",
       "      <td>NaN</td>\n",
       "      <td>NaN</td>\n",
       "    </tr>\n",
       "    <tr>\n",
       "      <th>2021-09-01</th>\n",
       "      <td>NaN</td>\n",
       "      <td>NaN</td>\n",
       "      <td>NaN</td>\n",
       "      <td>NaN</td>\n",
       "      <td>NaN</td>\n",
       "      <td>NaN</td>\n",
       "      <td>NaN</td>\n",
       "      <td>NaN</td>\n",
       "      <td>NaN</td>\n",
       "      <td>NaN</td>\n",
       "      <td>NaN</td>\n",
       "    </tr>\n",
       "    <tr>\n",
       "      <th>2021-12-01</th>\n",
       "      <td>NaN</td>\n",
       "      <td>NaN</td>\n",
       "      <td>NaN</td>\n",
       "      <td>NaN</td>\n",
       "      <td>NaN</td>\n",
       "      <td>NaN</td>\n",
       "      <td>NaN</td>\n",
       "      <td>NaN</td>\n",
       "      <td>NaN</td>\n",
       "      <td>NaN</td>\n",
       "      <td>NaN</td>\n",
       "    </tr>\n",
       "  </tbody>\n",
       "</table>\n",
       "</div>"
      ],
      "text/plain": [
       "            nplr  discrate  exrate   gdp  crudeoil  gexp     lsm     cpi  \\\n",
       "date                                                                       \n",
       "2020-12-01  4.77       7.0  160.83 -0.39     42.65  5.02  166.23  141.12   \n",
       "2021-03-01   NaN       NaN     NaN   NaN       NaN   NaN     NaN     NaN   \n",
       "2021-06-01   NaN       NaN     NaN   NaN       NaN   NaN     NaN     NaN   \n",
       "2021-09-01   NaN       NaN     NaN   NaN       NaN   NaN     NaN     NaN   \n",
       "2021-12-01   NaN       NaN     NaN   NaN       NaN   NaN     NaN     NaN   \n",
       "\n",
       "              psx  gdpr  cpirate  \n",
       "date                              \n",
       "2020-12-01  43.76  3.94     8.41  \n",
       "2021-03-01    NaN   NaN      NaN  \n",
       "2021-06-01    NaN   NaN      NaN  \n",
       "2021-09-01    NaN   NaN      NaN  \n",
       "2021-12-01    NaN   NaN      NaN  "
      ]
     },
     "execution_count": 3,
     "metadata": {},
     "output_type": "execute_result"
    }
   ],
   "source": [
    "df = pd.read_csv('fypdata21.csv')#, parse_dates=['date'], index_col='date')\n",
    "df['date'] = pd.to_datetime(df['date'])\n",
    "print(df.dtypes)\n",
    "df.index = df.date\n",
    "df.drop(columns = ['date', 'kibor', 'lendrate'], inplace = True)\n",
    "print(df.shape)\n",
    "df.tail()"
   ]
  },
  {
   "cell_type": "markdown",
   "id": "2c55fdcf",
   "metadata": {},
   "source": [
    "## nplr = Non-Performing Loans\n",
    "## discrate = discount rate\n",
    "## exrate = exchange rate\n",
    "## gexp = growth in export\n",
    "## psx = Pakistan Stock Exchange index\n",
    "## lsm = large scale manufacturing index"
   ]
  },
  {
   "cell_type": "code",
   "execution_count": 4,
   "id": "26939216",
   "metadata": {},
   "outputs": [
    {
     "data": {
      "text/plain": [
       "<AxesSubplot:xlabel='date'>"
      ]
     },
     "execution_count": 4,
     "metadata": {},
     "output_type": "execute_result"
    },
    {
     "data": {
      "image/png": "[encoded data removed]",
      "text/plain": [
       "<Figure size 432x288 with 1 Axes>"
      ]
     },
     "metadata": {
      "needs_background": "light"
     },
     "output_type": "display_data"
    }
   ],
   "source": [
    "df['nplr'].plot()"
   ]
  },
  {
   "cell_type": "markdown",
   "id": "66b4f3e9",
   "metadata": {},
   "source": [
    "# ADF test"
   ]
  },
  {
   "cell_type": "code",
   "execution_count": 5,
   "id": "305b149b",
   "metadata": {},
   "outputs": [],
   "source": [
    "from statsmodels.tsa.stattools import adfuller"
   ]
  },
  {
   "cell_type": "code",
   "execution_count": 6,
   "id": "43716a34",
   "metadata": {},
   "outputs": [],
   "source": [
    "passing_data=adfuller(df.nplr.dropna())"
   ]
  },
  {
   "cell_type": "code",
   "execution_count": 7,
   "id": "5eb49487",
   "metadata": {},
   "outputs": [],
   "source": [
    "def adf_test(df):\n",
    "    result=adfuller(df)\n",
    "    labels = ['Test parameters', 'p-value','#Lags Used','Dataset observations']\n",
    "    for value,label in zip(result,labels):\n",
    "        print(label+' : '+str(value) )\n",
    "    if result[1] <= 0.05:\n",
    "        print(\"Dataset is stationary\")\n",
    "    else:\n",
    "        print(\"Dataset is non-stationary \")"
   ]
  },
  {
   "cell_type": "code",
   "execution_count": 8,
   "id": "6eff7a3a",
   "metadata": {},
   "outputs": [
    {
     "name": "stdout",
     "output_type": "stream",
     "text": [
      "Test parameters : -3.354711992884267\n",
      "p-value : 0.012603093473461544\n",
      "#Lags Used : 11\n",
      "Dataset observations : 52\n",
      "Dataset is stationary\n"
     ]
    }
   ],
   "source": [
    "adf_test(df.nplr.dropna()) #test cell"
   ]
  },
  {
   "cell_type": "markdown",
   "id": "2bed026f",
   "metadata": {},
   "source": [
    "# KPSS test"
   ]
  },
  {
   "cell_type": "code",
   "execution_count": 9,
   "id": "fa774b62",
   "metadata": {},
   "outputs": [],
   "source": [
    "from statsmodels.tsa.stattools import kpss\n",
    "\n",
    "\n",
    "def kpss_test(timeseries):\n",
    "    print(\"Results of KPSS Test:\")\n",
    "    kpsstest = kpss(timeseries, regression=\"c\", nlags=\"auto\")\n",
    "    kpss_output = pd.Series(\n",
    "        kpsstest[0:3], index=[\"Test Statistic\", \"p-value\", \"Lags Used\"]\n",
    "    )\n",
    "    for key, value in kpsstest[3].items():\n",
    "        kpss_output[\"Critical Value (%s)\" % key] = value\n",
    "    print(kpss_output)\n",
    "    if kpss_output[1] >= 0.05:\n",
    "        print(\"Dataset have no trend\")\n",
    "    else:\n",
    "        print(\"Dataset have trend \")"
   ]
  },
  {
   "cell_type": "code",
   "execution_count": 10,
   "id": "dd55fb8d",
   "metadata": {},
   "outputs": [
    {
     "name": "stdout",
     "output_type": "stream",
     "text": [
      "Results of KPSS Test:\n",
      "Test Statistic           0.462195\n",
      "p-value                  0.050347\n",
      "Lags Used                5.000000\n",
      "Critical Value (10%)     0.347000\n",
      "Critical Value (5%)      0.463000\n",
      "Critical Value (2.5%)    0.574000\n",
      "Critical Value (1%)      0.739000\n",
      "dtype: float64\n",
      "Dataset have no trend\n"
     ]
    }
   ],
   "source": [
    "kpss_test(df.nplr.dropna())"
   ]
  },
  {
   "cell_type": "markdown",
   "id": "532edb05",
   "metadata": {},
   "source": [
    "# Differencing if data not stationary in series or trend"
   ]
  },
  {
   "cell_type": "code",
   "execution_count": 11,
   "id": "9fee7a59",
   "metadata": {},
   "outputs": [],
   "source": [
    "df['Differencing_g']=df['nplr'].diff().diff()"
   ]
  },
  {
   "cell_type": "code",
   "execution_count": 12,
   "id": "e2dce603",
   "metadata": {},
   "outputs": [
    {
     "data": {
      "text/plain": [
       "<AxesSubplot:xlabel='date'>"
      ]
     },
     "execution_count": 12,
     "metadata": {},
     "output_type": "execute_result"
    },
    {
     "data": {
      "image/png": "[encoded data removed]",
      "text/plain": [
       "<Figure size 432x288 with 1 Axes>"
      ]
     },
     "metadata": {
      "needs_background": "light"
     },
     "output_type": "display_data"
    }
   ],
   "source": [
    "df['Differencing_g'].plot()"
   ]
  },
  {
   "cell_type": "code",
   "execution_count": 13,
   "id": "bce57dbd",
   "metadata": {},
   "outputs": [
    {
     "name": "stdout",
     "output_type": "stream",
     "text": [
      "Test parameters : -5.91989711815662\n",
      "p-value : 2.5209473223477e-07\n",
      "#Lags Used : 4\n",
      "Dataset observations : 57\n",
      "Dataset is stationary\n"
     ]
    }
   ],
   "source": [
    "adf_test(df['Differencing_g'].dropna())"
   ]
  },
  {
   "cell_type": "code",
   "execution_count": 14,
   "id": "9c18e71f",
   "metadata": {},
   "outputs": [
    {
     "name": "stdout",
     "output_type": "stream",
     "text": [
      "Results of KPSS Test:\n",
      "Test Statistic           0.061417\n",
      "p-value                  0.100000\n",
      "Lags Used                4.000000\n",
      "Critical Value (10%)     0.347000\n",
      "Critical Value (5%)      0.463000\n",
      "Critical Value (2.5%)    0.574000\n",
      "Critical Value (1%)      0.739000\n",
      "dtype: float64\n",
      "Dataset have no trend\n"
     ]
    }
   ],
   "source": [
    "kpss_test(df['Differencing_g'].dropna())"
   ]
  },
  {
   "cell_type": "code",
   "execution_count": 15,
   "id": "0eab27d4",
   "metadata": {},
   "outputs": [
    {
     "data": {
      "text/plain": [
       "<AxesSubplot:xlabel='date'>"
      ]
     },
     "execution_count": 15,
     "metadata": {},
     "output_type": "execute_result"
    },
    {
     "data": {
      "image/png": "[encoded data removed]",
      "text/plain": [
       "<Figure size 432x288 with 1 Axes>"
      ]
     },
     "metadata": {
      "needs_background": "light"
     },
     "output_type": "display_data"
    }
   ],
   "source": [
    "df['Differencing_g'].plot()"
   ]
  },
  {
   "cell_type": "code",
   "execution_count": 16,
   "id": "648f7a5a",
   "metadata": {},
   "outputs": [],
   "source": [
    "from statsmodels.graphics.tsaplots import plot_acf,plot_pacf\n",
    "import statsmodels.api as sm"
   ]
  },
  {
   "cell_type": "markdown",
   "id": "59b99ac7",
   "metadata": {},
   "source": [
    "# for q lags"
   ]
  },
  {
   "cell_type": "code",
   "execution_count": 17,
   "id": "c8ee3534",
   "metadata": {
    "scrolled": true
   },
   "outputs": [
    {
     "data": {
      "image/png": "[encoded data removed]",
      "text/plain": [
       "<Figure size 432x288 with 1 Axes>"
      ]
     },
     "metadata": {
      "needs_background": "light"
     },
     "output_type": "display_data"
    }
   ],
   "source": [
    "plot_acf(df.nplr) #5 lags\n",
    "plt.show()"
   ]
  },
  {
   "cell_type": "markdown",
   "id": "c38f92d7",
   "metadata": {},
   "source": [
    "# for p lags"
   ]
  },
  {
   "cell_type": "code",
   "execution_count": 18,
   "id": "9d875026",
   "metadata": {},
   "outputs": [
    {
     "data": {
      "image/png": "[encoded data removed]",
      "text/plain": [
       "<Figure size 432x288 with 1 Axes>"
      ]
     },
     "metadata": {
      "needs_background": "light"
     },
     "output_type": "display_data"
    }
   ],
   "source": [
    "plot_pacf(df.nplr) #1 3 4 5 6\n",
    "plt.show()"
   ]
  },
  {
   "cell_type": "markdown",
   "id": "2d12a735",
   "metadata": {},
   "source": [
    "# auto sarima"
   ]
  },
  {
   "cell_type": "code",
   "execution_count": 19,
   "id": "773d83da",
   "metadata": {},
   "outputs": [
    {
     "name": "stdout",
     "output_type": "stream",
     "text": [
      "Performing stepwise search to minimize aic\n",
      " ARIMA(1,2,1)(0,0,0)[4]             : AIC=133.916, Time=0.11 sec\n",
      " ARIMA(0,2,0)(0,0,0)[4]             : AIC=196.492, Time=0.03 sec\n",
      " ARIMA(1,2,0)(1,0,0)[4]             : AIC=140.886, Time=0.09 sec\n",
      " ARIMA(0,2,1)(0,0,1)[4]             : AIC=135.664, Time=0.11 sec\n",
      " ARIMA(1,2,1)(1,0,0)[4]             : AIC=inf, Time=0.24 sec\n",
      " ARIMA(1,2,1)(0,0,1)[4]             : AIC=132.812, Time=0.16 sec\n",
      " ARIMA(1,2,1)(1,0,1)[4]             : AIC=126.926, Time=0.44 sec\n",
      " ARIMA(1,2,1)(2,0,1)[4]             : AIC=inf, Time=0.61 sec\n",
      " ARIMA(1,2,1)(1,0,2)[4]             : AIC=inf, Time=0.64 sec\n",
      " ARIMA(1,2,1)(0,0,2)[4]             : AIC=131.943, Time=0.20 sec\n",
      " ARIMA(1,2,1)(2,0,0)[4]             : AIC=129.213, Time=0.22 sec\n",
      " ARIMA(1,2,1)(2,0,2)[4]             : AIC=inf, Time=0.61 sec\n",
      " ARIMA(0,2,1)(1,0,1)[4]             : AIC=127.331, Time=0.23 sec\n",
      " ARIMA(1,2,0)(1,0,1)[4]             : AIC=inf, Time=0.39 sec\n",
      " ARIMA(2,2,1)(1,0,1)[4]             : AIC=inf, Time=0.34 sec\n",
      " ARIMA(1,2,2)(1,0,1)[4]             : AIC=inf, Time=0.50 sec\n",
      " ARIMA(0,2,0)(1,0,1)[4]             : AIC=164.699, Time=0.16 sec\n",
      " ARIMA(0,2,2)(1,0,1)[4]             : AIC=127.171, Time=0.34 sec\n",
      " ARIMA(2,2,0)(1,0,1)[4]             : AIC=inf, Time=0.39 sec\n",
      " ARIMA(2,2,2)(1,0,1)[4]             : AIC=inf, Time=0.49 sec\n",
      " ARIMA(1,2,1)(1,0,1)[4] intercept   : AIC=129.139, Time=0.45 sec\n",
      "\n",
      "Best model:  ARIMA(1,2,1)(1,0,1)[4]          \n",
      "Total fit time: 6.848 seconds\n"
     ]
    }
   ],
   "source": [
    "model_1 = auto_arima(df.nplr.dropna(), start_p=1, start_q=1,\n",
    "                      test='adf',       # use adftest to find optimal 'd'\n",
    "                      max_p=5, max_q=5,  # maximum p and q\n",
    "                      m=4,              # frequency of series\n",
    "                      d=None,           # let model determine 'd'\n",
    "                      seasonal=True,   # No Seasonality\n",
    "                      start_P=0, \n",
    "                      D=0,\n",
    "                      start_Q=0,\n",
    "                      trace=True,\n",
    "                      error_action='ignore',  \n",
    "                      suppress_warnings=True,\n",
    "                      out_of_sample_size = 4,\n",
    "                      scoring = 'mse',\n",
    "                      stepwise=True)\n"
   ]
  },
  {
   "cell_type": "code",
   "execution_count": 20,
   "id": "219bb8dc",
   "metadata": {
    "scrolled": true
   },
   "outputs": [
    {
     "data": {
      "text/plain": [
       "<AxesSubplot:xlabel='date'>"
      ]
     },
     "execution_count": 20,
     "metadata": {},
     "output_type": "execute_result"
    },
    {
     "data": {
      "image/png": "[encoded data removed]",
      "text/plain": [
       "<Figure size 720x576 with 1 Axes>"
      ]
     },
     "metadata": {
      "needs_background": "light"
     },
     "output_type": "display_data"
    }
   ],
   "source": [
    "model=ARIMA(df.nplr.dropna(), order=(0, 1, 0),seasonal_order=(1,0,1,4))\n",
    "\n",
    "sarima_model=model.fit()\n",
    "\n",
    "df['forecast']=sarima_model.predict(start=40, end=67, dynamic=False)\n",
    "df[['nplr','forecast']].plot(figsize=(10,8))"
   ]
  },
  {
   "cell_type": "code",
   "execution_count": 21,
   "id": "6d7892bf",
   "metadata": {},
   "outputs": [
    {
     "data": {
      "text/html": [
       "<table class=\"simpletable\">\n",
       "<caption>SARIMAX Results</caption>\n",
       "<tr>\n",
       "  <th>Dep. Variable:</th>               <td>nplr</td>              <th>  No. Observations:  </th>   <td>64</td>   \n",
       "</tr>\n",
       "<tr>\n",
       "  <th>Model:</th>           <td>ARIMA(0, 1, 0)x(1, 0, [1], 4)</td> <th>  Log Likelihood     </th> <td>-58.973</td>\n",
       "</tr>\n",
       "<tr>\n",
       "  <th>Date:</th>                  <td>Thu, 13 Apr 2023</td>        <th>  AIC                </th> <td>123.946</td>\n",
       "</tr>\n",
       "<tr>\n",
       "  <th>Time:</th>                      <td>23:18:53</td>            <th>  BIC                </th> <td>130.375</td>\n",
       "</tr>\n",
       "<tr>\n",
       "  <th>Sample:</th>                   <td>03-01-2005</td>           <th>  HQIC               </th> <td>126.474</td>\n",
       "</tr>\n",
       "<tr>\n",
       "  <th></th>                         <td>- 12-01-2020</td>          <th>                     </th>    <td> </td>   \n",
       "</tr>\n",
       "<tr>\n",
       "  <th>Covariance Type:</th>              <td>opg</td>              <th>                     </th>    <td> </td>   \n",
       "</tr>\n",
       "</table>\n",
       "<table class=\"simpletable\">\n",
       "<tr>\n",
       "     <td></td>        <th>coef</th>     <th>std err</th>      <th>z</th>      <th>P>|z|</th>  <th>[0.025</th>    <th>0.975]</th>  \n",
       "</tr>\n",
       "<tr>\n",
       "  <th>ar.S.L4</th> <td>    0.8122</td> <td>    0.138</td> <td>    5.876</td> <td> 0.000</td> <td>    0.541</td> <td>    1.083</td>\n",
       "</tr>\n",
       "<tr>\n",
       "  <th>ma.S.L4</th> <td>   -0.4346</td> <td>    0.245</td> <td>   -1.772</td> <td> 0.076</td> <td>   -0.915</td> <td>    0.046</td>\n",
       "</tr>\n",
       "<tr>\n",
       "  <th>sigma2</th>  <td>    0.3708</td> <td>    0.058</td> <td>    6.430</td> <td> 0.000</td> <td>    0.258</td> <td>    0.484</td>\n",
       "</tr>\n",
       "</table>\n",
       "<table class=\"simpletable\">\n",
       "<tr>\n",
       "  <th>Ljung-Box (L1) (Q):</th>     <td>0.11</td> <th>  Jarque-Bera (JB):  </th> <td>1.07</td> \n",
       "</tr>\n",
       "<tr>\n",
       "  <th>Prob(Q):</th>                <td>0.74</td> <th>  Prob(JB):          </th> <td>0.59</td> \n",
       "</tr>\n",
       "<tr>\n",
       "  <th>Heteroskedasticity (H):</th> <td>0.41</td> <th>  Skew:              </th> <td>-0.09</td>\n",
       "</tr>\n",
       "<tr>\n",
       "  <th>Prob(H) (two-sided):</th>    <td>0.04</td> <th>  Kurtosis:          </th> <td>3.61</td> \n",
       "</tr>\n",
       "</table><br/><br/>Warnings:<br/>[1] Covariance matrix calculated using the outer product of gradients (complex-step)."
      ],
      "text/plain": [
       "<class 'statsmodels.iolib.summary.Summary'>\n",
       "\"\"\"\n",
       "                                     SARIMAX Results                                     \n",
       "=========================================================================================\n",
       "Dep. Variable:                              nplr   No. Observations:                   64\n",
       "Model:             ARIMA(0, 1, 0)x(1, 0, [1], 4)   Log Likelihood                 -58.973\n",
       "Date:                           Thu, 13 Apr 2023   AIC                            123.946\n",
       "Time:                                   23:18:53   BIC                            130.375\n",
       "Sample:                               03-01-2005   HQIC                           126.474\n",
       "                                    - 12-01-2020                                         \n",
       "Covariance Type:                             opg                                         \n",
       "==============================================================================\n",
       "                 coef    std err          z      P>|z|      [0.025      0.975]\n",
       "------------------------------------------------------------------------------\n",
       "ar.S.L4        0.8122      0.138      5.876      0.000       0.541       1.083\n",
       "ma.S.L4       -0.4346      0.245     -1.772      0.076      -0.915       0.046\n",
       "sigma2         0.3708      0.058      6.430      0.000       0.258       0.484\n",
       "===================================================================================\n",
       "Ljung-Box (L1) (Q):                   0.11   Jarque-Bera (JB):                 1.07\n",
       "Prob(Q):                              0.74   Prob(JB):                         0.59\n",
       "Heteroskedasticity (H):               0.41   Skew:                            -0.09\n",
       "Prob(H) (two-sided):                  0.04   Kurtosis:                         3.61\n",
       "===================================================================================\n",
       "\n",
       "Warnings:\n",
       "[1] Covariance matrix calculated using the outer product of gradients (complex-step).\n",
       "\"\"\""
      ]
     },
     "execution_count": 21,
     "metadata": {},
     "output_type": "execute_result"
    }
   ],
   "source": [
    "sarima_model.summary()"
   ]
  },
  {
   "cell_type": "code",
   "execution_count": 22,
   "id": "967b842d",
   "metadata": {
    "scrolled": true
   },
   "outputs": [
    {
     "data": {
      "text/html": [
       "<div>\n",
       "<style scoped>\n",
       "    .dataframe tbody tr th:only-of-type {\n",
       "        vertical-align: middle;\n",
       "    }\n",
       "\n",
       "    .dataframe tbody tr th {\n",
       "        vertical-align: top;\n",
       "    }\n",
       "\n",
       "    .dataframe thead th {\n",
       "        text-align: right;\n",
       "    }\n",
       "</style>\n",
       "<table border=\"1\" class=\"dataframe\">\n",
       "  <thead>\n",
       "    <tr style=\"text-align: right;\">\n",
       "      <th></th>\n",
       "      <th>nplr</th>\n",
       "      <th>forecast</th>\n",
       "    </tr>\n",
       "    <tr>\n",
       "      <th>date</th>\n",
       "      <th></th>\n",
       "      <th></th>\n",
       "    </tr>\n",
       "  </thead>\n",
       "  <tbody>\n",
       "    <tr>\n",
       "      <th>2020-03-01</th>\n",
       "      <td>4.94</td>\n",
       "      <td>4.855445</td>\n",
       "    </tr>\n",
       "    <tr>\n",
       "      <th>2020-06-01</th>\n",
       "      <td>5.10</td>\n",
       "      <td>4.608252</td>\n",
       "    </tr>\n",
       "    <tr>\n",
       "      <th>2020-09-01</th>\n",
       "      <td>5.02</td>\n",
       "      <td>5.187416</td>\n",
       "    </tr>\n",
       "    <tr>\n",
       "      <th>2020-12-01</th>\n",
       "      <td>4.77</td>\n",
       "      <td>4.665160</td>\n",
       "    </tr>\n",
       "    <tr>\n",
       "      <th>2021-03-01</th>\n",
       "      <td>NaN</td>\n",
       "      <td>4.814469</td>\n",
       "    </tr>\n",
       "    <tr>\n",
       "      <th>2021-06-01</th>\n",
       "      <td>NaN</td>\n",
       "      <td>4.730706</td>\n",
       "    </tr>\n",
       "    <tr>\n",
       "      <th>2021-09-01</th>\n",
       "      <td>NaN</td>\n",
       "      <td>4.738490</td>\n",
       "    </tr>\n",
       "    <tr>\n",
       "      <th>2021-12-01</th>\n",
       "      <td>NaN</td>\n",
       "      <td>4.489890</td>\n",
       "    </tr>\n",
       "  </tbody>\n",
       "</table>\n",
       "</div>"
      ],
      "text/plain": [
       "            nplr  forecast\n",
       "date                      \n",
       "2020-03-01  4.94  4.855445\n",
       "2020-06-01  5.10  4.608252\n",
       "2020-09-01  5.02  5.187416\n",
       "2020-12-01  4.77  4.665160\n",
       "2021-03-01   NaN  4.814469\n",
       "2021-06-01   NaN  4.730706\n",
       "2021-09-01   NaN  4.738490\n",
       "2021-12-01   NaN  4.489890"
      ]
     },
     "execution_count": 22,
     "metadata": {},
     "output_type": "execute_result"
    }
   ],
   "source": [
    "df[['nplr', 'forecast']].tail(8)\n",
    "#df.index"
   ]
  },
  {
   "cell_type": "markdown",
   "id": "dc766285",
   "metadata": {},
   "source": [
    "# R-squared"
   ]
  },
  {
   "cell_type": "code",
   "execution_count": 23,
   "id": "103a743f",
   "metadata": {},
   "outputs": [
    {
     "data": {
      "text/plain": [
       "0.8499700208076831"
      ]
     },
     "execution_count": 23,
     "metadata": {},
     "output_type": "execute_result"
    }
   ],
   "source": [
    "from sklearn.metrics import r2_score\n",
    "r2_score(df.nplr[50:63], df.forecast[50:63])"
   ]
  },
  {
   "cell_type": "code",
   "execution_count": 24,
   "id": "f9f4702e",
   "metadata": {},
   "outputs": [],
   "source": [
    "'''\n",
    "  The function calculates Root mean square error\n",
    "  \n",
    "  # The first parameter of function takes actual labels as actual\n",
    "  # The second parameter of function takes predicted labels by the model \n",
    "    as predicted\n",
    "\n",
    "  # The function returns calculated RMSE error of type float\n",
    "'''\n",
    "def measure_rmse(actual, predicted):\n",
    "\treturn sqrt(mean_squared_error(actual, predicted))"
   ]
  },
  {
   "cell_type": "code",
   "execution_count": 25,
   "id": "da283128",
   "metadata": {},
   "outputs": [
    {
     "data": {
      "text/plain": [
       "0.2683211131051731"
      ]
     },
     "execution_count": 25,
     "metadata": {},
     "output_type": "execute_result"
    }
   ],
   "source": [
    "measure_rmse(df.nplr[-8:-4], df.forecast[-8:-4])"
   ]
  },
  {
   "cell_type": "markdown",
   "id": "145433b0",
   "metadata": {},
   "source": [
    "## DW test (1.9-2.10)"
   ]
  },
  {
   "cell_type": "code",
   "execution_count": 26,
   "id": "0fd83a06",
   "metadata": {},
   "outputs": [
    {
     "data": {
      "text/plain": [
       "1.3364944026656247"
      ]
     },
     "execution_count": 26,
     "metadata": {},
     "output_type": "execute_result"
    }
   ],
   "source": [
    "sm.stats.durbin_watson(sarima_model.resid.values) # SARIMA Durbin test"
   ]
  },
  {
   "cell_type": "code",
   "execution_count": null,
   "id": "f06852d9",
   "metadata": {},
   "outputs": [],
   "source": []
  }
 ],
 "metadata": {
  "kernelspec": {
   "display_name": "Python 3 (ipykernel)",
   "language": "python",
   "name": "python3"
  },
  "language_info": {
   "codemirror_mode": {
    "name": "ipython",
    "version": 3
   },
   "file_extension": ".py",
   "mimetype": "text/x-python",
   "name": "python",
   "nbconvert_exporter": "python",
   "pygments_lexer": "ipython3",
   "version": "3.9.12"
  }
 },
 "nbformat": 4,
 "nbformat_minor": 5
}
