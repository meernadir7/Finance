{
 "cells": [
  {
   "cell_type": "code",
   "execution_count": 1,
   "id": "0d0e7cf4",
   "metadata": {},
   "outputs": [
    {
     "data": {
      "application/javascript": [
       "IPython.notebook.set_autosave_interval(0)"
      ]
     },
     "metadata": {},
     "output_type": "display_data"
    },
    {
     "name": "stdout",
     "output_type": "stream",
     "text": [
      "Autosave disabled\n"
     ]
    }
   ],
   "source": [
    "%autosave 0"
   ]
  },
  {
   "cell_type": "code",
   "execution_count": 2,
   "id": "edf035bf",
   "metadata": {},
   "outputs": [],
   "source": [
    "from math import sqrt\n",
    "from multiprocessing import cpu_count\n",
    "from joblib import Parallel\n",
    "from joblib import delayed\n",
    "from warnings import catch_warnings\n",
    "from warnings import filterwarnings\n",
    "from pandas.plotting import autocorrelation_plot\n",
    "from statsmodels.tsa.stattools import adfuller\n",
    "from statsmodels.tsa.stattools import kpss\n",
    "from sklearn.metrics import mean_squared_error\n",
    "from statsmodels.tsa.seasonal import seasonal_decompose\n",
    "from statsmodels.tsa.arima_model import ARMA\n",
    "from statsmodels.tsa.arima.model import ARIMA\n",
    "from statsmodels.tsa.statespace.sarimax import SARIMAX\n",
    "from pmdarima.arima import auto_arima\n",
    "from scipy.stats.distributions import chi2\n",
    "from statsmodels.graphics.tsaplots import plot_acf\n",
    "from statsmodels.graphics.tsaplots import plot_pacf\n",
    "import statsmodels.api as sm\n",
    "from pandas import read_csv\n",
    "from tabulate import tabulate\n",
    "import pandas as pd\n",
    "import io\n",
    "import warnings\n",
    "import matplotlib.pyplot as plt\n",
    "from numpy import array\n",
    "from datetime import datetime\n",
    "\n",
    "# Ignoring all warnings\n",
    "import warnings\n",
    "warnings.filterwarnings('ignore')\n",
    "\n",
    "import pandas as pd\n",
    "import numpy as np\n",
    "from tqdm.notebook import trange, tqdm\n",
    "pd.set_option('display.max_rows', None)"
   ]
  },
  {
   "cell_type": "code",
   "execution_count": 3,
   "id": "1a419b49",
   "metadata": {
    "scrolled": true
   },
   "outputs": [
    {
     "name": "stdout",
     "output_type": "stream",
     "text": [
      "date        datetime64[ns]\n",
      "nplr               float64\n",
      "kibor              float64\n",
      "discrate           float64\n",
      "lendrate           float64\n",
      "exrate             float64\n",
      "gdp                float64\n",
      "crudeoil           float64\n",
      "gexp               float64\n",
      "lsm                float64\n",
      "cpi                float64\n",
      "psx                float64\n",
      "dtype: object\n",
      "(64, 9)\n"
     ]
    },
    {
     "data": {
      "text/html": [
       "<div>\n",
       "<style scoped>\n",
       "    .dataframe tbody tr th:only-of-type {\n",
       "        vertical-align: middle;\n",
       "    }\n",
       "\n",
       "    .dataframe tbody tr th {\n",
       "        vertical-align: top;\n",
       "    }\n",
       "\n",
       "    .dataframe thead th {\n",
       "        text-align: right;\n",
       "    }\n",
       "</style>\n",
       "<table border=\"1\" class=\"dataframe\">\n",
       "  <thead>\n",
       "    <tr style=\"text-align: right;\">\n",
       "      <th></th>\n",
       "      <th>nplr</th>\n",
       "      <th>discrate</th>\n",
       "      <th>exrate</th>\n",
       "      <th>gdp</th>\n",
       "      <th>crudeoil</th>\n",
       "      <th>gexp</th>\n",
       "      <th>lsm</th>\n",
       "      <th>cpi</th>\n",
       "      <th>psx</th>\n",
       "    </tr>\n",
       "    <tr>\n",
       "      <th>date</th>\n",
       "      <th></th>\n",
       "      <th></th>\n",
       "      <th></th>\n",
       "      <th></th>\n",
       "      <th></th>\n",
       "      <th></th>\n",
       "      <th></th>\n",
       "      <th></th>\n",
       "      <th></th>\n",
       "    </tr>\n",
       "  </thead>\n",
       "  <tbody>\n",
       "    <tr>\n",
       "      <th>2019-12-01</th>\n",
       "      <td>4.84</td>\n",
       "      <td>13.25</td>\n",
       "      <td>155.51</td>\n",
       "      <td>1.91</td>\n",
       "      <td>56.87</td>\n",
       "      <td>4.27</td>\n",
       "      <td>150.11</td>\n",
       "      <td>130.17</td>\n",
       "      <td>40.74</td>\n",
       "    </tr>\n",
       "    <tr>\n",
       "      <th>2020-03-01</th>\n",
       "      <td>4.94</td>\n",
       "      <td>12.50</td>\n",
       "      <td>156.06</td>\n",
       "      <td>1.91</td>\n",
       "      <td>45.78</td>\n",
       "      <td>-4.74</td>\n",
       "      <td>127.14</td>\n",
       "      <td>132.12</td>\n",
       "      <td>29.23</td>\n",
       "    </tr>\n",
       "    <tr>\n",
       "      <th>2020-06-01</th>\n",
       "      <td>5.10</td>\n",
       "      <td>8.00</td>\n",
       "      <td>163.89</td>\n",
       "      <td>1.91</td>\n",
       "      <td>27.88</td>\n",
       "      <td>-2.52</td>\n",
       "      <td>122.46</td>\n",
       "      <td>131.23</td>\n",
       "      <td>34.42</td>\n",
       "    </tr>\n",
       "    <tr>\n",
       "      <th>2020-09-01</th>\n",
       "      <td>5.02</td>\n",
       "      <td>7.00</td>\n",
       "      <td>166.96</td>\n",
       "      <td>-0.39</td>\n",
       "      <td>40.92</td>\n",
       "      <td>9.53</td>\n",
       "      <td>138.08</td>\n",
       "      <td>136.64</td>\n",
       "      <td>40.57</td>\n",
       "    </tr>\n",
       "    <tr>\n",
       "      <th>2020-12-01</th>\n",
       "      <td>4.77</td>\n",
       "      <td>7.00</td>\n",
       "      <td>160.83</td>\n",
       "      <td>-0.39</td>\n",
       "      <td>42.65</td>\n",
       "      <td>5.02</td>\n",
       "      <td>166.23</td>\n",
       "      <td>141.12</td>\n",
       "      <td>43.76</td>\n",
       "    </tr>\n",
       "  </tbody>\n",
       "</table>\n",
       "</div>"
      ],
      "text/plain": [
       "            nplr  discrate  exrate   gdp  crudeoil  gexp     lsm     cpi  \\\n",
       "date                                                                       \n",
       "2019-12-01  4.84     13.25  155.51  1.91     56.87  4.27  150.11  130.17   \n",
       "2020-03-01  4.94     12.50  156.06  1.91     45.78 -4.74  127.14  132.12   \n",
       "2020-06-01  5.10      8.00  163.89  1.91     27.88 -2.52  122.46  131.23   \n",
       "2020-09-01  5.02      7.00  166.96 -0.39     40.92  9.53  138.08  136.64   \n",
       "2020-12-01  4.77      7.00  160.83 -0.39     42.65  5.02  166.23  141.12   \n",
       "\n",
       "              psx  \n",
       "date               \n",
       "2019-12-01  40.74  \n",
       "2020-03-01  29.23  \n",
       "2020-06-01  34.42  \n",
       "2020-09-01  40.57  \n",
       "2020-12-01  43.76  "
      ]
     },
     "execution_count": 3,
     "metadata": {},
     "output_type": "execute_result"
    }
   ],
   "source": [
    "df = pd.read_csv('fypdata.csv')#, parse_dates=['date'], index_col='date')\n",
    "df['date']= pd.to_datetime(df['date'])\n",
    "print(df.dtypes)\n",
    "df.index = df.date\n",
    "df.drop(columns = [\"date\", 'kibor', 'lendrate'], inplace = True)\n",
    "print(df.shape)\n",
    "df.tail()"
   ]
  },
  {
   "cell_type": "markdown",
   "id": "ac9aed51",
   "metadata": {},
   "source": [
    "## nplr = Non-Performing Loans\n",
    "## discrate = discount rate\n",
    "## exrate = exchange rate\n",
    "## gexp = growth in export\n",
    "## psx = Pakistan Stock Exchange index"
   ]
  },
  {
   "cell_type": "code",
   "execution_count": 4,
   "id": "26939216",
   "metadata": {},
   "outputs": [
    {
     "data": {
      "text/plain": [
       "<AxesSubplot:xlabel='date'>"
      ]
     },
     "execution_count": 4,
     "metadata": {},
     "output_type": "execute_result"
    },
    {
     "data": {
      "image/png": "[encoded data removed]",
      "text/plain": [
       "<Figure size 432x288 with 1 Axes>"
      ]
     },
     "metadata": {
      "needs_background": "light"
     },
     "output_type": "display_data"
    }
   ],
   "source": [
    "df['cpi'].plot()"
   ]
  },
  {
   "cell_type": "markdown",
   "id": "66b4f3e9",
   "metadata": {},
   "source": [
    "# ADF test"
   ]
  },
  {
   "cell_type": "code",
   "execution_count": 5,
   "id": "305b149b",
   "metadata": {},
   "outputs": [],
   "source": [
    "from statsmodels.tsa.stattools import adfuller"
   ]
  },
  {
   "cell_type": "code",
   "execution_count": 6,
   "id": "43716a34",
   "metadata": {},
   "outputs": [],
   "source": [
    "passing_data=adfuller(df.cpi)"
   ]
  },
  {
   "cell_type": "code",
   "execution_count": 7,
   "id": "5eb49487",
   "metadata": {},
   "outputs": [],
   "source": [
    "def adf_test(df):\n",
    "    result=adfuller(df)\n",
    "    labels = ['Test parameters', 'p-value','#Lags Used','Dataset observations']\n",
    "    for value,label in zip(result,labels):\n",
    "        print(label+' : '+str(value) )\n",
    "    if result[1] <= 0.05:\n",
    "        print(\"Dataset is stationary\")\n",
    "    else:\n",
    "        print(\"Dataset is non-stationary \")"
   ]
  },
  {
   "cell_type": "code",
   "execution_count": 8,
   "id": "6eff7a3a",
   "metadata": {},
   "outputs": [
    {
     "name": "stdout",
     "output_type": "stream",
     "text": [
      "Test parameters : -0.3391226724907197\n",
      "p-value : 0.919777719093647\n",
      "#Lags Used : 0\n",
      "Dataset observations : 63\n",
      "Dataset is non-stationary \n"
     ]
    }
   ],
   "source": [
    "adf_test(df.cpi)"
   ]
  },
  {
   "cell_type": "markdown",
   "id": "2bed026f",
   "metadata": {},
   "source": [
    "# KPSS test"
   ]
  },
  {
   "cell_type": "code",
   "execution_count": 9,
   "id": "fa774b62",
   "metadata": {},
   "outputs": [],
   "source": [
    "from statsmodels.tsa.stattools import kpss\n",
    "\n",
    "\n",
    "def kpss_test(timeseries):\n",
    "    print(\"Results of KPSS Test:\")\n",
    "    kpsstest = kpss(timeseries, regression=\"c\", nlags=\"auto\")\n",
    "    kpss_output = pd.Series(\n",
    "        kpsstest[0:3], index=[\"Test Statistic\", \"p-value\", \"Lags Used\"]\n",
    "    )\n",
    "    for key, value in kpsstest[3].items():\n",
    "        kpss_output[\"Critical Value (%s)\" % key] = value\n",
    "    print(kpss_output)\n",
    "    if kpss_output[1] >= 0.05:\n",
    "        print(\"Dataset have no trend\")\n",
    "    else:\n",
    "        print(\"Dataset have trend \")"
   ]
  },
  {
   "cell_type": "code",
   "execution_count": 10,
   "id": "dd55fb8d",
   "metadata": {},
   "outputs": [
    {
     "name": "stdout",
     "output_type": "stream",
     "text": [
      "Results of KPSS Test:\n",
      "Test Statistic           1.018603\n",
      "p-value                  0.010000\n",
      "Lags Used                4.000000\n",
      "Critical Value (10%)     0.347000\n",
      "Critical Value (5%)      0.463000\n",
      "Critical Value (2.5%)    0.574000\n",
      "Critical Value (1%)      0.739000\n",
      "dtype: float64\n",
      "Dataset have trend \n"
     ]
    }
   ],
   "source": [
    "kpss_test(df.cpi)"
   ]
  },
  {
   "cell_type": "markdown",
   "id": "fb0da64a",
   "metadata": {},
   "source": [
    "# differencing for stationarity"
   ]
  },
  {
   "cell_type": "code",
   "execution_count": 11,
   "id": "9fee7a59",
   "metadata": {},
   "outputs": [],
   "source": [
    "df['Differencing_cpi']=df['cpi'].diff()"
   ]
  },
  {
   "cell_type": "code",
   "execution_count": 12,
   "id": "bce57dbd",
   "metadata": {},
   "outputs": [
    {
     "name": "stdout",
     "output_type": "stream",
     "text": [
      "Test parameters : -8.558259048132284\n",
      "p-value : 8.837709056259083e-14\n",
      "#Lags Used : 0\n",
      "Dataset observations : 62\n",
      "Dataset is stationary\n"
     ]
    }
   ],
   "source": [
    "adf_test(df['Differencing_cpi'].dropna())"
   ]
  },
  {
   "cell_type": "code",
   "execution_count": 13,
   "id": "9c18e71f",
   "metadata": {},
   "outputs": [
    {
     "name": "stdout",
     "output_type": "stream",
     "text": [
      "Results of KPSS Test:\n",
      "Test Statistic           0.178946\n",
      "p-value                  0.100000\n",
      "Lags Used                2.000000\n",
      "Critical Value (10%)     0.347000\n",
      "Critical Value (5%)      0.463000\n",
      "Critical Value (2.5%)    0.574000\n",
      "Critical Value (1%)      0.739000\n",
      "dtype: float64\n",
      "Dataset have no trend\n"
     ]
    }
   ],
   "source": [
    "kpss_test(df['Differencing_cpi'].dropna())"
   ]
  },
  {
   "cell_type": "code",
   "execution_count": 14,
   "id": "0eab27d4",
   "metadata": {},
   "outputs": [
    {
     "data": {
      "text/plain": [
       "<AxesSubplot:xlabel='date'>"
      ]
     },
     "execution_count": 14,
     "metadata": {},
     "output_type": "execute_result"
    },
    {
     "data": {
      "image/png": "[encoded data removed]",
      "text/plain": [
       "<Figure size 432x288 with 1 Axes>"
      ]
     },
     "metadata": {
      "needs_background": "light"
     },
     "output_type": "display_data"
    }
   ],
   "source": [
    "df['Differencing_cpi'].plot()"
   ]
  },
  {
   "cell_type": "markdown",
   "id": "6358e1b2",
   "metadata": {},
   "source": [
    "from pandas import read_csv\n",
    "from matplotlib import pyplot\n",
    "from statsmodels.tsa.seasonal import seasonal_decompose\n",
    "#series = read_csv('airline-passengers.csv', header=0, index_col=0)\n",
    "result = seasonal_decompose(series, model='multiplicative')\n",
    "result.plot()\n",
    "pyplot.show()"
   ]
  },
  {
   "cell_type": "code",
   "execution_count": 15,
   "id": "648f7a5a",
   "metadata": {},
   "outputs": [],
   "source": [
    "from statsmodels.graphics.tsaplots import plot_acf,plot_pacf\n",
    "import statsmodels.api as sm"
   ]
  },
  {
   "cell_type": "markdown",
   "id": "59b99ac7",
   "metadata": {},
   "source": [
    "# for q lags"
   ]
  },
  {
   "cell_type": "code",
   "execution_count": 16,
   "id": "c8ee3534",
   "metadata": {
    "scrolled": true
   },
   "outputs": [
    {
     "data": {
      "image/png": "[encoded data removed]",
      "text/plain": [
       "<Figure size 432x288 with 1 Axes>"
      ]
     },
     "metadata": {
      "needs_background": "light"
     },
     "output_type": "display_data"
    }
   ],
   "source": [
    "plot_acf(df.cpi) #5 lags\n",
    "plt.show()"
   ]
  },
  {
   "cell_type": "markdown",
   "id": "c38f92d7",
   "metadata": {},
   "source": [
    "# for p lags"
   ]
  },
  {
   "cell_type": "code",
   "execution_count": 17,
   "id": "9d875026",
   "metadata": {},
   "outputs": [
    {
     "data": {
      "image/png": "[encoded data removed]",
      "text/plain": [
       "<Figure size 432x288 with 1 Axes>"
      ]
     },
     "metadata": {
      "needs_background": "light"
     },
     "output_type": "display_data"
    }
   ],
   "source": [
    "plot_pacf(df.cpi) #1\n",
    "plt.show()"
   ]
  },
  {
   "cell_type": "markdown",
   "id": "1ae9c5d0",
   "metadata": {},
   "source": [
    " FOR APPLYING ARMA, KEEP d=0, AND USE p AND q ONLY ON DIFFERENCED DATA SET (IF NOT STATIONARY) ELSE ON VAR. DIRECTLY"
   ]
  },
  {
   "cell_type": "markdown",
   "id": "6cbe4c24",
   "metadata": {},
   "source": [
    "# auto ARMA"
   ]
  },
  {
   "cell_type": "code",
   "execution_count": 18,
   "id": "c5fd5521",
   "metadata": {},
   "outputs": [
    {
     "name": "stdout",
     "output_type": "stream",
     "text": [
      "Performing stepwise search to minimize aic\n",
      " ARIMA(1,0,1)(0,0,0)[0]             : AIC=425.482, Time=0.95 sec\n",
      " ARIMA(0,0,0)(0,0,0)[0]             : AIC=421.863, Time=0.06 sec\n",
      " ARIMA(1,0,0)(0,0,0)[0]             : AIC=423.491, Time=0.05 sec\n",
      " ARIMA(0,0,1)(0,0,0)[0]             : AIC=423.484, Time=0.03 sec\n",
      " ARIMA(0,0,0)(0,0,0)[0] intercept   : AIC=422.366, Time=0.05 sec\n",
      "\n",
      "Best model:  ARIMA(0,0,0)(0,0,0)[0]          \n",
      "Total fit time: 1.337 seconds\n"
     ]
    }
   ],
   "source": [
    "model_1 = auto_arima(df['Differencing_cpi'].dropna(), start_p=1, start_q=1,\n",
    "                      test='adf',       # use adftest to find optimal 'd'\n",
    "                      max_p=5, max_q=5,  # maximum p and q\n",
    "                      m=4,              # frequency of series\n",
    "                      d=None,           # let model determine 'd'\n",
    "                      seasonal=False,   # No Seasonality\n",
    "                      start_P=0, \n",
    "                      D=0, \n",
    "                      trace=True,\n",
    "                      error_action='ignore',  \n",
    "                      suppress_warnings=True, \n",
    "                      stepwise=True)\n"
   ]
  },
  {
   "cell_type": "code",
   "execution_count": 19,
   "id": "9b4e52f0",
   "metadata": {},
   "outputs": [
    {
     "data": {
      "text/html": [
       "<table class=\"simpletable\">\n",
       "<caption>SARIMAX Results</caption>\n",
       "<tr>\n",
       "  <th>Dep. Variable:</th>   <td>Differencing_cpi</td> <th>  No. Observations:  </th>    <td>63</td>   \n",
       "</tr>\n",
       "<tr>\n",
       "  <th>Model:</th>                 <td>ARIMA</td>      <th>  Log Likelihood     </th> <td>-209.183</td>\n",
       "</tr>\n",
       "<tr>\n",
       "  <th>Date:</th>            <td>Thu, 13 Apr 2023</td> <th>  AIC                </th>  <td>422.366</td>\n",
       "</tr>\n",
       "<tr>\n",
       "  <th>Time:</th>                <td>22:47:50</td>     <th>  BIC                </th>  <td>426.652</td>\n",
       "</tr>\n",
       "<tr>\n",
       "  <th>Sample:</th>             <td>06-01-2005</td>    <th>  HQIC               </th>  <td>424.052</td>\n",
       "</tr>\n",
       "<tr>\n",
       "  <th></th>                   <td>- 12-01-2020</td>   <th>                     </th>     <td> </td>   \n",
       "</tr>\n",
       "<tr>\n",
       "  <th>Covariance Type:</th>        <td>opg</td>       <th>                     </th>     <td> </td>   \n",
       "</tr>\n",
       "</table>\n",
       "<table class=\"simpletable\">\n",
       "<tr>\n",
       "     <td></td>       <th>coef</th>     <th>std err</th>      <th>z</th>      <th>P>|z|</th>  <th>[0.025</th>    <th>0.975]</th>  \n",
       "</tr>\n",
       "<tr>\n",
       "  <th>const</th>  <td>    1.0382</td> <td>    3.584</td> <td>    0.290</td> <td> 0.772</td> <td>   -5.987</td> <td>    8.063</td>\n",
       "</tr>\n",
       "<tr>\n",
       "  <th>sigma2</th> <td>   44.8290</td> <td>    6.515</td> <td>    6.881</td> <td> 0.000</td> <td>   32.060</td> <td>   57.598</td>\n",
       "</tr>\n",
       "</table>\n",
       "<table class=\"simpletable\">\n",
       "<tr>\n",
       "  <th>Ljung-Box (L1) (Q):</th>     <td>0.67</td> <th>  Jarque-Bera (JB):  </th> <td>7712.44</td>\n",
       "</tr>\n",
       "<tr>\n",
       "  <th>Prob(Q):</th>                <td>0.41</td> <th>  Prob(JB):          </th>  <td>0.00</td>  \n",
       "</tr>\n",
       "<tr>\n",
       "  <th>Heteroskedasticity (H):</th> <td>0.03</td> <th>  Skew:              </th>  <td>-7.16</td> \n",
       "</tr>\n",
       "<tr>\n",
       "  <th>Prob(H) (two-sided):</th>    <td>0.00</td> <th>  Kurtosis:          </th>  <td>55.28</td> \n",
       "</tr>\n",
       "</table><br/><br/>Warnings:<br/>[1] Covariance matrix calculated using the outer product of gradients (complex-step)."
      ],
      "text/plain": [
       "<class 'statsmodels.iolib.summary.Summary'>\n",
       "\"\"\"\n",
       "                               SARIMAX Results                                \n",
       "==============================================================================\n",
       "Dep. Variable:       Differencing_cpi   No. Observations:                   63\n",
       "Model:                          ARIMA   Log Likelihood                -209.183\n",
       "Date:                Thu, 13 Apr 2023   AIC                            422.366\n",
       "Time:                        22:47:50   BIC                            426.652\n",
       "Sample:                    06-01-2005   HQIC                           424.052\n",
       "                         - 12-01-2020                                         \n",
       "Covariance Type:                  opg                                         \n",
       "==============================================================================\n",
       "                 coef    std err          z      P>|z|      [0.025      0.975]\n",
       "------------------------------------------------------------------------------\n",
       "const          1.0382      3.584      0.290      0.772      -5.987       8.063\n",
       "sigma2        44.8290      6.515      6.881      0.000      32.060      57.598\n",
       "===================================================================================\n",
       "Ljung-Box (L1) (Q):                   0.67   Jarque-Bera (JB):              7712.44\n",
       "Prob(Q):                              0.41   Prob(JB):                         0.00\n",
       "Heteroskedasticity (H):               0.03   Skew:                            -7.16\n",
       "Prob(H) (two-sided):                  0.00   Kurtosis:                        55.28\n",
       "===================================================================================\n",
       "\n",
       "Warnings:\n",
       "[1] Covariance matrix calculated using the outer product of gradients (complex-step).\n",
       "\"\"\""
      ]
     },
     "execution_count": 19,
     "metadata": {},
     "output_type": "execute_result"
    }
   ],
   "source": [
    "model_1 = ARIMA(df['Differencing_cpi'].dropna(),order=(0,0,0))\n",
    "auto_arma_model = model_1.fit()\n",
    "auto_arma_model.summary()"
   ]
  },
  {
   "cell_type": "markdown",
   "id": "64e86450",
   "metadata": {},
   "source": [
    "# forecast"
   ]
  },
  {
   "cell_type": "code",
   "execution_count": 20,
   "id": "32e1df41",
   "metadata": {},
   "outputs": [
    {
     "data": {
      "text/plain": [
       "<AxesSubplot:xlabel='date'>"
      ]
     },
     "execution_count": 20,
     "metadata": {},
     "output_type": "execute_result"
    },
    {
     "data": {
      "image/png": "[encoded data removed]",
      "text/plain": [
       "<Figure size 864x576 with 1 Axes>"
      ]
     },
     "metadata": {
      "needs_background": "light"
     },
     "output_type": "display_data"
    }
   ],
   "source": [
    "df['forecast']=auto_arma_model.predict(start=53,end=64,dynamic=True)\n",
    "df[['cpi','forecast', 'Differencing_cpi']].plot(figsize=(12,8))"
   ]
  },
  {
   "cell_type": "markdown",
   "id": "52f0fba6",
   "metadata": {},
   "source": [
    "# DW test"
   ]
  },
  {
   "cell_type": "code",
   "execution_count": 21,
   "id": "8ae1442f",
   "metadata": {},
   "outputs": [
    {
     "data": {
      "text/plain": [
       "2.1972628065923576"
      ]
     },
     "execution_count": 21,
     "metadata": {},
     "output_type": "execute_result"
    }
   ],
   "source": [
    "sm.stats.durbin_watson(auto_arma_model.resid.values)"
   ]
  }
 ],
 "metadata": {
  "kernelspec": {
   "display_name": "Python 3 (ipykernel)",
   "language": "python",
   "name": "python3"
  },
  "language_info": {
   "codemirror_mode": {
    "name": "ipython",
    "version": 3
   },
   "file_extension": ".py",
   "mimetype": "text/x-python",
   "name": "python",
   "nbconvert_exporter": "python",
   "pygments_lexer": "ipython3",
   "version": "3.9.12"
  }
 },
 "nbformat": 4,
 "nbformat_minor": 5
}
